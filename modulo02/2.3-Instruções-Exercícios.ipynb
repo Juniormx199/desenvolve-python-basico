{
 "cells": [
  {
   "cell_type": "markdown",
   "metadata": {
    "id": "1pCTdOHonv5f"
   },
   "source": [
    "# Módulo 2\n",
    "\n",
    "## 2.3 Instruções e Expressões\n",
    "\n",
    "### Q1\n",
    "\n",
    "Faça um programa que armazene o valor de 20 reais de salário por hora de um trabalhador, e o número de 40 horas trabalhadas na semana. Com essas informações, calcule e imprima:\n",
    "- Salário semanal bruto\n",
    "- Valor descontado por semana INSS (10% do bruto)\n",
    "- Valor descontado por semana pelo sindicato (5% do bruto)\n",
    "- Salário semanal líquido (Bruto - Descontos)"
   ]
  },
  {
   "cell_type": "code",
   "execution_count": 1,
   "metadata": {
    "id": "hVbX0I97nj6M"
   },
   "outputs": [
    {
     "name": "stdout",
     "output_type": "stream",
     "text": [
      "Salário semanal bruto:\n",
      "800\n",
      "Valor descontado por semana INSS (10% do bruto):\n",
      "80.0\n",
      "Valor descontado por semana pelo sindicato (5% do bruto):\n",
      "40.0\n",
      "Salário semanal líquido (Bruto - Descontos):\n",
      "680.0\n"
     ]
    }
   ],
   "source": [
    "## Escreva e execute seu código aqui\n",
    "valor_hora = 20\n",
    "horas_semanais = 40\n",
    "salario_bruto = valor_hora * horas_semanais\n",
    "print(\"Salário semanal bruto:\")\n",
    "print(salario_bruto)\n",
    "print(\"Valor descontado por semana INSS (10% do bruto):\")\n",
    "print(salario_bruto * 0.1)\n",
    "print(\"Valor descontado por semana pelo sindicato (5% do bruto):\")\n",
    "print(salario_bruto * 0.05)\n",
    "print(\"Salário semanal líquido (Bruto - Descontos):\")\n",
    "print(salario_bruto - ((salario_bruto * 0.05) + (salario_bruto * 0.1)))"
   ]
  },
  {
   "cell_type": "markdown",
   "metadata": {
    "id": "pIxKX9J2oGZ1"
   },
   "source": [
    "### Q2\n",
    "\n",
    "Altere o programa anterior para a partir dos valores de horas trabalhadas por semana e salário por hora, calcular **em somente duas instruções**:\n",
    "- Salário semanal bruto\n",
    "- Salário semanal líquido com todos os descontos. Para a segunda instrução, realize todos os cálculos aritméticos em uma expressão composta.\n"
   ]
  },
  {
   "cell_type": "code",
   "execution_count": 2,
   "metadata": {
    "id": "pAHw9Xf9oGoi"
   },
   "outputs": [
    {
     "name": "stdout",
     "output_type": "stream",
     "text": [
      "Salário semanal bruto:\n",
      "800\n",
      "Salário semanal líquido (Bruto - Descontos):\n",
      "680.0\n"
     ]
    }
   ],
   "source": [
    "## Escreva e execute seu código aqui\n",
    "valor_hora = 20\n",
    "horas_semanais = 40\n",
    "print(\"Salário semanal bruto:\")\n",
    "print(valor_hora * horas_semanais)\n",
    "print(\"Salário semanal líquido (Bruto - Descontos):\")\n",
    "print(salario_bruto - (((valor_hora * horas_semanais) * 0.05) + ((valor_hora * horas_semanais) * 0.1)))"
   ]
  },
  {
   "cell_type": "markdown",
   "metadata": {
    "id": "m8tlHRuWpBOB"
   },
   "source": [
    "### Q3\n",
    "\n",
    "Você está desenvolvendo um software de conversão de moeda e precisa calcular o valor equivalente em yuan chinês a partir de uma quantia em real. A taxa de câmbio é de 0.69 BRL (real) para 1 CNY (yuan). Escreva um programa que define em uma variável uma quantia em reais (BRL) e calcula o valor equivalente em yuan (CNY). Imprima o resultado."
   ]
  },
  {
   "cell_type": "code",
   "execution_count": 3,
   "metadata": {
    "id": "2bPw7uF6oeL9"
   },
   "outputs": [
    {
     "name": "stdout",
     "output_type": "stream",
     "text": [
      "Valor em yuan:\n",
      "144.92753623188406\n"
     ]
    }
   ],
   "source": [
    "## Escreva e execute seu código aqui\n",
    "valor_reais = 100\n",
    "taxa_cambio = 0.69\n",
    "valor_yuan = valor_reais / taxa_cambio\n",
    "print(\"Valor em yuan:\")\n",
    "print(valor_yuan)"
   ]
  },
  {
   "cell_type": "markdown",
   "metadata": {
    "id": "-Na3ltDCp74A"
   },
   "source": [
    "### Q4\n",
    "\n",
    "Você é um treinador de corrida e deseja calcular a velocidade média que um atleta precisa manter para completar a Maratona Internacional de São Silvestre, que tem uma distância total de 42.195 km. A fórmula para calcular a velocidade média ($v\\_media$) é dada por $v\\_media = \\frac{distancia}{tempo}$ . Escreva um programa em Python para calcular a velocidade média necessária para completar a maratona em 3 horas.\n",
    "\n",
    "**Calcule e imprima o resultado em metros/segundo**, ou seja, converta a distância de quilômetros para metros ($metro = \\frac{km}{1000}$) e a velocidade de horas para segundos $(segundo = \\frac{hora}{3600})$."
   ]
  },
  {
   "cell_type": "code",
   "execution_count": 24,
   "metadata": {
    "id": "Bn6l8kcSrE4L"
   },
   "outputs": [
    {
     "name": "stdout",
     "output_type": "stream",
     "text": [
      "Distancia total em metros: 42195.0\n",
      "Tempo para completar a maratona em segundos: 10800\n",
      "Velocidade media necessaria para completar a maratona em 3 horas é de 3.9069444444444446 metros por segundo\n"
     ]
    }
   ],
   "source": [
    "## Escreva e execute seu código aqui\n",
    "distancia  = 42.195 * 1000\n",
    "tempo = 3 * 3600\n",
    "velocidade_media = distancia / tempo\n",
    "print(f\"Distancia total em metros: {distancia}\")\n",
    "print(f\"Tempo para completar a maratona em segundos: {tempo}\")\n",
    "print(f\"Velocidade media necessaria para completar a maratona em 3 horas é de {velocidade_media} metros por segundo\")"
   ]
  }
 ],
 "metadata": {
  "colab": {
   "provenance": []
  },
  "kernelspec": {
   "display_name": "Python 3 (ipykernel)",
   "language": "python",
   "name": "python3"
  },
  "language_info": {
   "codemirror_mode": {
    "name": "ipython",
    "version": 3
   },
   "file_extension": ".py",
   "mimetype": "text/x-python",
   "name": "python",
   "nbconvert_exporter": "python",
   "pygments_lexer": "ipython3",
   "version": "3.11.7"
  }
 },
 "nbformat": 4,
 "nbformat_minor": 4
}
